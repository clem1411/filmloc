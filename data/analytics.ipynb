{
 "cells": [
  {
   "cell_type": "markdown",
   "metadata": {},
   "source": [
    "# Movies Analysis"
   ]
  },
  {
   "cell_type": "code",
   "execution_count": null,
   "metadata": {},
   "outputs": [],
   "source": [
    "%%HTML\n",
    "<script src=\"https://cdnjs.cloudflare.com/ajax/libs/require.js/2.3.6/require.js\"></script>"
   ]
  },
  {
   "cell_type": "code",
   "execution_count": null,
   "metadata": {},
   "outputs": [],
   "source": [
    "from py2neo import Graph\n",
    "from neo4j import GraphDatabase\n",
    "import networkx as nx\n",
    "import matplotlib.pyplot as plt\n",
    "import neo4jupyter\n",
    "import pandas as pd\n",
    "\n",
    "neo_host = \"neo4j\" # or localhost outside the docker\n",
    "neo_port = 7687\n",
    "\n",
    "graph = Graph(f\"bolt://{neo_host}:{neo_port}\")\n",
    "driver = GraphDatabase.driver(f\"bolt://{neo_host}:{neo_port}\")"
   ]
  },
  {
   "cell_type": "markdown",
   "metadata": {},
   "source": [
    "## Questions\n",
    "\n",
    "### Is there a correlation between the rating of a movie and the place where it was shot ?\n"
   ]
  },
  {
   "cell_type": "code",
   "execution_count": null,
   "metadata": {},
   "outputs": [],
   "source": [
    "NB_SELECTED = 20\n",
    "\n",
    "graph.run(\"\"\"MATCH (m:Movie)-[:HAS_LOCATION]->(l:Location)\n",
    "RETURN l.name AS location, avg(m.vote_average) AS avg_rating, count(m) AS movie_count\n",
    "ORDER BY avg_rating DESC\n",
    "LIMIT $nb_selected\"\"\", parameters={\"nb_selected\": NB_SELECTED}).to_data_frame().plot.bar(x='location', y='avg_rating')"
   ]
  },
  {
   "cell_type": "markdown",
   "metadata": {},
   "source": [
    "### What are the most popular places where movies are shot?"
   ]
  },
  {
   "cell_type": "code",
   "execution_count": null,
   "metadata": {},
   "outputs": [],
   "source": [
    "NB_SELECTED = 10\n",
    "\n",
    "graph.run(\"\"\"MATCH (m:Movie)-[:HAS_LOCATION]->(l:Location)\n",
    "RETURN l.name AS location, count(m) AS movie_count\n",
    "ORDER BY movie_count DESC\n",
    "LIMIT $nb_selected\"\"\", parameters={\"nb_selected\": NB_SELECTED}).to_data_frame().plot.bar(x='location', y='movie_count')"
   ]
  },
  {
   "cell_type": "markdown",
   "metadata": {},
   "source": [
    "### What are the most popular places where movies are shot with the best ratings ?"
   ]
  },
  {
   "cell_type": "code",
   "execution_count": null,
   "metadata": {},
   "outputs": [],
   "source": [
    "NB_SELECTED = 10\n",
    "\n",
    "graph.run(\"\"\"MATCH (m:Movie)-[:HAS_LOCATION]->(l:Location)\n",
    "WHERE m.vote_average >= 8.0\n",
    "RETURN l.name AS location, count(m) AS movie_count, avg(m.vote_average) AS avg_rating\n",
    "ORDER BY movie_count DESC\n",
    "LIMIT $nb_selected\"\"\", parameters={\"nb_selected\": NB_SELECTED}).to_data_frame().plot.bar(x='location', y='movie_count')"
   ]
  },
  {
   "cell_type": "markdown",
   "metadata": {},
   "source": [
    "### What are the most popular places where movies are shot with the worst ratings ?"
   ]
  },
  {
   "cell_type": "code",
   "execution_count": null,
   "metadata": {},
   "outputs": [],
   "source": [
    "NB_SELECTED = 10\n",
    "\n",
    "graph.run(\"\"\"MATCH (m:Movie)-[:HAS_LOCATION]->(l:Location)\n",
    "WHERE m.vote_average <= 4.0\n",
    "RETURN l.name AS location, count(m) AS movie_count, avg(m.vote_average) AS avg_rating\n",
    "ORDER BY movie_count DESC\n",
    "LIMIT $nb_selected\"\"\", parameters={\"nb_selected\": NB_SELECTED}).to_data_frame().plot.bar(x='location', y='movie_count')"
   ]
  },
  {
   "cell_type": "markdown",
   "metadata": {},
   "source": [
    "### Are places specializing in a specific genre of movie ?"
   ]
  },
  {
   "cell_type": "code",
   "execution_count": null,
   "metadata": {},
   "outputs": [],
   "source": [
    "\n",
    "data = graph.run(\"\"\"MATCH (m:Movie)-[:HAS_LOCATION]->(l:Location)\n",
    "MATCH (m)-[:HAS_GENRE]->(g:Genre)\n",
    "WITH g.name AS genre, l.name AS location, COUNT(m) AS movie_count\n",
    "RETURN genre, location, movie_count\n",
    "ORDER BY genre, movie_count DESC\"\"\", parameters={\"nb_selected\": NB_SELECTED}).to_data_frame()\n",
    "\n",
    "\n",
    "result = data.loc[data.groupby('genre')['movie_count'].idxmax()]\n",
    "\n",
    "print(result[['genre', 'location', 'movie_count']])"
   ]
  },
  {
   "cell_type": "markdown",
   "metadata": {},
   "source": [
    "## Additionnal visualization"
   ]
  },
  {
   "cell_type": "markdown",
   "metadata": {},
   "source": [
    "NB: Need to restart the kernel and re run all cells"
   ]
  },
  {
   "cell_type": "code",
   "execution_count": null,
   "metadata": {},
   "outputs": [],
   "source": [
    "neo4jupyter.init_notebook_mode()\n",
    "neo4jupyter.draw(graph, options={\"Movie\": \"original_title\"}, limit=50)\n",
    "\n",
    "# If you want to plot parts of the graph\n",
    "\n",
    "#sub_g = graph.run(\"\"\"\n",
    "#    MATCH (m:Movie)-[r:HAS_LOCATION]->(l:Location)\n",
    "#    RETURN *\"\"\").to_subgraph()\n",
    "#neo4jupyter.draw_subgraph(sub_g, options={\"Movie\": \"original_title\"})\n"
   ]
  }
 ],
 "metadata": {
  "kernelspec": {
   "display_name": "Python 3 (ipykernel)",
   "language": "python",
   "name": "python3"
  },
  "language_info": {
   "codemirror_mode": {
    "name": "ipython",
    "version": 3
   },
   "file_extension": ".py",
   "mimetype": "text/x-python",
   "name": "python",
   "nbconvert_exporter": "python",
   "pygments_lexer": "ipython3",
   "version": "3.11.2"
  },
  "vscode": {
   "interpreter": {
    "hash": "9803be3a0da014ffd7dc199ce9e9fa8c4d81aebe14cd8d9d781ddf436cdf03d4"
   }
  }
 },
 "nbformat": 4,
 "nbformat_minor": 4
}
